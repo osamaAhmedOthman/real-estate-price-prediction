{
 "cells": [
  {
   "cell_type": "code",
   "execution_count": 1,
   "id": "7b022966",
   "metadata": {},
   "outputs": [],
   "source": [
    "# 🧰 Libraries Used in the Project\n",
    "\n",
    "# 📦 Data Manipulation & Analysis\n",
    "import pandas as pd\n",
    "import numpy as np\n",
    "\n",
    "# 📉 Missing Value Visualization\n",
    "import missingno as msno\n",
    "\n",
    "# 📊 Data Visualization\n",
    "import matplotlib.pyplot as plt\n",
    "import seaborn as sns\n",
    "\n",
    "# ⚙️ Data Preprocessing & Encoding\n",
    "from fuzzywuzzy import fuzz\n",
    "from sklearn.preprocessing import LabelEncoder, OrdinalEncoder\n",
    "from sklearn.model_selection import train_test_split\n",
    "\n",
    "# 🤖 Machine Learning Models\n",
    "from sklearn.linear_model import LinearRegression, Ridge\n",
    "from sklearn.ensemble import RandomForestRegressor, GradientBoostingRegressor\n",
    "\n",
    "# 📈 Model Evaluation\n",
    "from sklearn.metrics import r2_score, mean_squared_error, mean_absolute_error\n"
   ]
  },
  {
   "cell_type": "code",
   "execution_count": 2,
   "id": "2da89919",
   "metadata": {},
   "outputs": [],
   "source": [
    "df = pd.read_csv(r\"D:\\my_projcts\\Egypt_Houses_Price\\Egypt_Houses_Price.csv\")"
   ]
  },
  {
   "cell_type": "markdown",
   "id": "257bb37c",
   "metadata": {},
   "source": [
    "# 1- inspection of Data"
   ]
  },
  {
   "cell_type": "code",
   "execution_count": 3,
   "id": "474581df",
   "metadata": {},
   "outputs": [
    {
     "name": "stdout",
     "output_type": "stream",
     "text": [
      "(27361, 12)\n"
     ]
    },
    {
     "data": {
      "text/plain": [
       "['Type',\n",
       " 'Price',\n",
       " 'Bedrooms',\n",
       " 'Bathrooms',\n",
       " 'Area',\n",
       " 'Furnished',\n",
       " 'Level',\n",
       " 'Compound',\n",
       " 'Payment_Option',\n",
       " 'Delivery_Date',\n",
       " 'Delivery_Term',\n",
       " 'City']"
      ]
     },
     "metadata": {},
     "output_type": "display_data"
    }
   ],
   "source": [
    "print(df.shape) # 27361 rows and 12 columns \n",
    "display(df.columns.to_list())"
   ]
  },
  {
   "cell_type": "code",
   "execution_count": 4,
   "id": "23302e6c",
   "metadata": {},
   "outputs": [
    {
     "data": {
      "text/html": [
       "<div>\n",
       "<style scoped>\n",
       "    .dataframe tbody tr th:only-of-type {\n",
       "        vertical-align: middle;\n",
       "    }\n",
       "\n",
       "    .dataframe tbody tr th {\n",
       "        vertical-align: top;\n",
       "    }\n",
       "\n",
       "    .dataframe thead th {\n",
       "        text-align: right;\n",
       "    }\n",
       "</style>\n",
       "<table border=\"1\" class=\"dataframe\">\n",
       "  <thead>\n",
       "    <tr style=\"text-align: right;\">\n",
       "      <th></th>\n",
       "      <th>Type</th>\n",
       "      <th>Price</th>\n",
       "      <th>Bedrooms</th>\n",
       "      <th>Bathrooms</th>\n",
       "      <th>Area</th>\n",
       "      <th>Furnished</th>\n",
       "      <th>Level</th>\n",
       "      <th>Compound</th>\n",
       "      <th>Payment_Option</th>\n",
       "      <th>Delivery_Date</th>\n",
       "      <th>Delivery_Term</th>\n",
       "      <th>City</th>\n",
       "    </tr>\n",
       "  </thead>\n",
       "  <tbody>\n",
       "    <tr>\n",
       "      <th>0</th>\n",
       "      <td>Duplex</td>\n",
       "      <td>4000000</td>\n",
       "      <td>3.0</td>\n",
       "      <td>3.0</td>\n",
       "      <td>400.0</td>\n",
       "      <td>No</td>\n",
       "      <td>7</td>\n",
       "      <td>Unknown</td>\n",
       "      <td>Cash</td>\n",
       "      <td>Ready to move</td>\n",
       "      <td>Finished</td>\n",
       "      <td>Nasr City</td>\n",
       "    </tr>\n",
       "    <tr>\n",
       "      <th>1</th>\n",
       "      <td>Apartment</td>\n",
       "      <td>4000000</td>\n",
       "      <td>3.0</td>\n",
       "      <td>3.0</td>\n",
       "      <td>160.0</td>\n",
       "      <td>No</td>\n",
       "      <td>10+</td>\n",
       "      <td>Unknown</td>\n",
       "      <td>Cash</td>\n",
       "      <td>Ready to move</td>\n",
       "      <td>Finished</td>\n",
       "      <td>Camp Caesar</td>\n",
       "    </tr>\n",
       "    <tr>\n",
       "      <th>2</th>\n",
       "      <td>Apartment</td>\n",
       "      <td>2250000</td>\n",
       "      <td>3.0</td>\n",
       "      <td>2.0</td>\n",
       "      <td>165.0</td>\n",
       "      <td>No</td>\n",
       "      <td>1</td>\n",
       "      <td>Unknown</td>\n",
       "      <td>Cash</td>\n",
       "      <td>Ready to move</td>\n",
       "      <td>Finished</td>\n",
       "      <td>Smoha</td>\n",
       "    </tr>\n",
       "    <tr>\n",
       "      <th>3</th>\n",
       "      <td>Apartment</td>\n",
       "      <td>1900000</td>\n",
       "      <td>3.0</td>\n",
       "      <td>2.0</td>\n",
       "      <td>230.0</td>\n",
       "      <td>No</td>\n",
       "      <td>10</td>\n",
       "      <td>Unknown</td>\n",
       "      <td>Cash</td>\n",
       "      <td>Ready to move</td>\n",
       "      <td>Finished</td>\n",
       "      <td>Nasr City</td>\n",
       "    </tr>\n",
       "    <tr>\n",
       "      <th>4</th>\n",
       "      <td>Apartment</td>\n",
       "      <td>5800000</td>\n",
       "      <td>2.0</td>\n",
       "      <td>3.0</td>\n",
       "      <td>160.0</td>\n",
       "      <td>No</td>\n",
       "      <td>Ground</td>\n",
       "      <td>Eastown</td>\n",
       "      <td>Cash</td>\n",
       "      <td>Ready to move</td>\n",
       "      <td>Semi Finished</td>\n",
       "      <td>New Cairo - El Tagamoa</td>\n",
       "    </tr>\n",
       "  </tbody>\n",
       "</table>\n",
       "</div>"
      ],
      "text/plain": [
       "        Type    Price Bedrooms Bathrooms   Area Furnished   Level Compound  \\\n",
       "0     Duplex  4000000      3.0       3.0  400.0        No       7  Unknown   \n",
       "1  Apartment  4000000      3.0       3.0  160.0        No     10+  Unknown   \n",
       "2  Apartment  2250000      3.0       2.0  165.0        No       1  Unknown   \n",
       "3  Apartment  1900000      3.0       2.0  230.0        No      10  Unknown   \n",
       "4  Apartment  5800000      2.0       3.0  160.0        No  Ground  Eastown   \n",
       "\n",
       "  Payment_Option  Delivery_Date  Delivery_Term                    City  \n",
       "0           Cash  Ready to move       Finished               Nasr City  \n",
       "1           Cash  Ready to move       Finished             Camp Caesar  \n",
       "2           Cash  Ready to move       Finished                   Smoha  \n",
       "3           Cash  Ready to move       Finished               Nasr City  \n",
       "4           Cash  Ready to move  Semi Finished  New Cairo - El Tagamoa  "
      ]
     },
     "metadata": {},
     "output_type": "display_data"
    },
    {
     "data": {
      "text/html": [
       "<div>\n",
       "<style scoped>\n",
       "    .dataframe tbody tr th:only-of-type {\n",
       "        vertical-align: middle;\n",
       "    }\n",
       "\n",
       "    .dataframe tbody tr th {\n",
       "        vertical-align: top;\n",
       "    }\n",
       "\n",
       "    .dataframe thead th {\n",
       "        text-align: right;\n",
       "    }\n",
       "</style>\n",
       "<table border=\"1\" class=\"dataframe\">\n",
       "  <thead>\n",
       "    <tr style=\"text-align: right;\">\n",
       "      <th></th>\n",
       "      <th>Type</th>\n",
       "      <th>Price</th>\n",
       "      <th>Bedrooms</th>\n",
       "      <th>Bathrooms</th>\n",
       "      <th>Area</th>\n",
       "      <th>Furnished</th>\n",
       "      <th>Level</th>\n",
       "      <th>Compound</th>\n",
       "      <th>Payment_Option</th>\n",
       "      <th>Delivery_Date</th>\n",
       "      <th>Delivery_Term</th>\n",
       "      <th>City</th>\n",
       "    </tr>\n",
       "  </thead>\n",
       "  <tbody>\n",
       "    <tr>\n",
       "      <th>27356</th>\n",
       "      <td>Town House</td>\n",
       "      <td>890000</td>\n",
       "      <td>3.0</td>\n",
       "      <td>2.0</td>\n",
       "      <td>240.0</td>\n",
       "      <td>Unknown</td>\n",
       "      <td>Unknown</td>\n",
       "      <td>Unknown</td>\n",
       "      <td>Unknown Payment</td>\n",
       "      <td>Unknown</td>\n",
       "      <td>Unknown</td>\n",
       "      <td>North Coast</td>\n",
       "    </tr>\n",
       "    <tr>\n",
       "      <th>27357</th>\n",
       "      <td>Town House</td>\n",
       "      <td>4000000</td>\n",
       "      <td>4.0</td>\n",
       "      <td>3.0</td>\n",
       "      <td>218.0</td>\n",
       "      <td>Unknown</td>\n",
       "      <td>Unknown</td>\n",
       "      <td>Unknown</td>\n",
       "      <td>Cash or Installment</td>\n",
       "      <td>Unknown</td>\n",
       "      <td>Finished</td>\n",
       "      <td>New Cairo - El Tagamoa</td>\n",
       "    </tr>\n",
       "    <tr>\n",
       "      <th>27358</th>\n",
       "      <td>Twin House</td>\n",
       "      <td>13800000</td>\n",
       "      <td>3.0</td>\n",
       "      <td>4.0</td>\n",
       "      <td>308.0</td>\n",
       "      <td>No</td>\n",
       "      <td>Unknown</td>\n",
       "      <td>Cairo Festival City</td>\n",
       "      <td>Cash</td>\n",
       "      <td>Ready to move</td>\n",
       "      <td>Semi Finished</td>\n",
       "      <td>New Cairo - El Tagamoa</td>\n",
       "    </tr>\n",
       "    <tr>\n",
       "      <th>27359</th>\n",
       "      <td>Stand Alone Villa</td>\n",
       "      <td>35000000</td>\n",
       "      <td>4.0</td>\n",
       "      <td>4.0</td>\n",
       "      <td>478.0</td>\n",
       "      <td>Unknown</td>\n",
       "      <td>Unknown</td>\n",
       "      <td>Unknown</td>\n",
       "      <td>Unknown Payment</td>\n",
       "      <td>Unknown</td>\n",
       "      <td>Finished</td>\n",
       "      <td>Mokattam</td>\n",
       "    </tr>\n",
       "    <tr>\n",
       "      <th>27360</th>\n",
       "      <td>Stand Alone Villa</td>\n",
       "      <td>4800000</td>\n",
       "      <td>5.0</td>\n",
       "      <td>5.0</td>\n",
       "      <td>NaN</td>\n",
       "      <td>No</td>\n",
       "      <td>Unknown</td>\n",
       "      <td>Unknown</td>\n",
       "      <td>Cash</td>\n",
       "      <td>Unknown</td>\n",
       "      <td>Finished</td>\n",
       "      <td>Sheikh Zayed</td>\n",
       "    </tr>\n",
       "  </tbody>\n",
       "</table>\n",
       "</div>"
      ],
      "text/plain": [
       "                    Type     Price Bedrooms Bathrooms   Area Furnished  \\\n",
       "27356         Town House    890000      3.0       2.0  240.0   Unknown   \n",
       "27357         Town House   4000000      4.0       3.0  218.0   Unknown   \n",
       "27358         Twin House  13800000      3.0       4.0  308.0        No   \n",
       "27359  Stand Alone Villa  35000000      4.0       4.0  478.0   Unknown   \n",
       "27360  Stand Alone Villa   4800000      5.0       5.0    NaN        No   \n",
       "\n",
       "         Level             Compound       Payment_Option  Delivery_Date  \\\n",
       "27356  Unknown              Unknown      Unknown Payment        Unknown   \n",
       "27357  Unknown              Unknown  Cash or Installment        Unknown   \n",
       "27358  Unknown  Cairo Festival City                 Cash  Ready to move   \n",
       "27359  Unknown              Unknown      Unknown Payment        Unknown   \n",
       "27360  Unknown              Unknown                 Cash        Unknown   \n",
       "\n",
       "       Delivery_Term                    City  \n",
       "27356       Unknown              North Coast  \n",
       "27357       Finished  New Cairo - El Tagamoa  \n",
       "27358  Semi Finished  New Cairo - El Tagamoa  \n",
       "27359       Finished                Mokattam  \n",
       "27360       Finished            Sheikh Zayed  "
      ]
     },
     "metadata": {},
     "output_type": "display_data"
    }
   ],
   "source": [
    "display(df.head())\n",
    "display(df.tail())"
   ]
  },
  {
   "cell_type": "code",
   "execution_count": 5,
   "id": "d9cf817e",
   "metadata": {},
   "outputs": [
    {
     "name": "stdout",
     "output_type": "stream",
     "text": [
      "<class 'pandas.core.frame.DataFrame'>\n",
      "RangeIndex: 27361 entries, 0 to 27360\n",
      "Data columns (total 12 columns):\n",
      " #   Column          Non-Null Count  Dtype \n",
      "---  ------          --------------  ----- \n",
      " 0   Type            27361 non-null  object\n",
      " 1   Price           27359 non-null  object\n",
      " 2   Bedrooms        27158 non-null  object\n",
      " 3   Bathrooms       27190 non-null  object\n",
      " 4   Area            26890 non-null  object\n",
      " 5   Furnished       27361 non-null  object\n",
      " 6   Level           27361 non-null  object\n",
      " 7   Compound        27361 non-null  object\n",
      " 8   Payment_Option  27361 non-null  object\n",
      " 9   Delivery_Date   27361 non-null  object\n",
      " 10  Delivery_Term   27361 non-null  object\n",
      " 11  City            27361 non-null  object\n",
      "dtypes: object(12)\n",
      "memory usage: 2.5+ MB\n",
      "None\n"
     ]
    },
    {
     "data": {
      "text/html": [
       "<div>\n",
       "<style scoped>\n",
       "    .dataframe tbody tr th:only-of-type {\n",
       "        vertical-align: middle;\n",
       "    }\n",
       "\n",
       "    .dataframe tbody tr th {\n",
       "        vertical-align: top;\n",
       "    }\n",
       "\n",
       "    .dataframe thead th {\n",
       "        text-align: right;\n",
       "    }\n",
       "</style>\n",
       "<table border=\"1\" class=\"dataframe\">\n",
       "  <thead>\n",
       "    <tr style=\"text-align: right;\">\n",
       "      <th></th>\n",
       "      <th>count</th>\n",
       "      <th>unique</th>\n",
       "      <th>top</th>\n",
       "      <th>freq</th>\n",
       "    </tr>\n",
       "  </thead>\n",
       "  <tbody>\n",
       "    <tr>\n",
       "      <th>Type</th>\n",
       "      <td>27361</td>\n",
       "      <td>11</td>\n",
       "      <td>Apartment</td>\n",
       "      <td>8506</td>\n",
       "    </tr>\n",
       "    <tr>\n",
       "      <th>Price</th>\n",
       "      <td>27359</td>\n",
       "      <td>4182</td>\n",
       "      <td>3000000</td>\n",
       "      <td>311</td>\n",
       "    </tr>\n",
       "    <tr>\n",
       "      <th>Bedrooms</th>\n",
       "      <td>27158</td>\n",
       "      <td>22</td>\n",
       "      <td>3</td>\n",
       "      <td>9784</td>\n",
       "    </tr>\n",
       "    <tr>\n",
       "      <th>Bathrooms</th>\n",
       "      <td>27190</td>\n",
       "      <td>22</td>\n",
       "      <td>2</td>\n",
       "      <td>7753</td>\n",
       "    </tr>\n",
       "    <tr>\n",
       "      <th>Area</th>\n",
       "      <td>26890</td>\n",
       "      <td>1073</td>\n",
       "      <td>120.0</td>\n",
       "      <td>663</td>\n",
       "    </tr>\n",
       "    <tr>\n",
       "      <th>Furnished</th>\n",
       "      <td>27361</td>\n",
       "      <td>3</td>\n",
       "      <td>No</td>\n",
       "      <td>16500</td>\n",
       "    </tr>\n",
       "    <tr>\n",
       "      <th>Level</th>\n",
       "      <td>27361</td>\n",
       "      <td>14</td>\n",
       "      <td>Unknown</td>\n",
       "      <td>10439</td>\n",
       "    </tr>\n",
       "    <tr>\n",
       "      <th>Compound</th>\n",
       "      <td>27361</td>\n",
       "      <td>560</td>\n",
       "      <td>Unknown</td>\n",
       "      <td>11068</td>\n",
       "    </tr>\n",
       "    <tr>\n",
       "      <th>Payment_Option</th>\n",
       "      <td>27361</td>\n",
       "      <td>4</td>\n",
       "      <td>Cash or Installment</td>\n",
       "      <td>10842</td>\n",
       "    </tr>\n",
       "    <tr>\n",
       "      <th>Delivery_Date</th>\n",
       "      <td>27361</td>\n",
       "      <td>10</td>\n",
       "      <td>Ready to move</td>\n",
       "      <td>12142</td>\n",
       "    </tr>\n",
       "    <tr>\n",
       "      <th>Delivery_Term</th>\n",
       "      <td>27361</td>\n",
       "      <td>5</td>\n",
       "      <td>Finished</td>\n",
       "      <td>14375</td>\n",
       "    </tr>\n",
       "    <tr>\n",
       "      <th>City</th>\n",
       "      <td>27361</td>\n",
       "      <td>183</td>\n",
       "      <td>New Cairo - El Tagamoa</td>\n",
       "      <td>6789</td>\n",
       "    </tr>\n",
       "  </tbody>\n",
       "</table>\n",
       "</div>"
      ],
      "text/plain": [
       "                count unique                     top   freq\n",
       "Type            27361     11               Apartment   8506\n",
       "Price           27359   4182                 3000000    311\n",
       "Bedrooms        27158     22                       3   9784\n",
       "Bathrooms       27190     22                       2   7753\n",
       "Area            26890   1073                   120.0    663\n",
       "Furnished       27361      3                      No  16500\n",
       "Level           27361     14                 Unknown  10439\n",
       "Compound        27361    560                 Unknown  11068\n",
       "Payment_Option  27361      4     Cash or Installment  10842\n",
       "Delivery_Date   27361     10           Ready to move  12142\n",
       "Delivery_Term   27361      5                Finished  14375\n",
       "City            27361    183  New Cairo - El Tagamoa   6789"
      ]
     },
     "metadata": {},
     "output_type": "display_data"
    }
   ],
   "source": [
    "print(df.info())\n",
    "display(df.describe(include='all').T)"
   ]
  },
  {
   "cell_type": "code",
   "execution_count": 6,
   "id": "edc2eaa5",
   "metadata": {},
   "outputs": [],
   "source": [
    "memory_before = (df.memory_usage(deep=True).sum() / 1024 ** 2) # with MB\n"
   ]
  },
  {
   "cell_type": "markdown",
   "id": "79b32c2c",
   "metadata": {},
   "source": [
    "**1- Convert columns Type**"
   ]
  },
  {
   "cell_type": "code",
   "execution_count": 7,
   "id": "78257f9d",
   "metadata": {},
   "outputs": [],
   "source": [
    "# slect only columns with (numeric values)\n",
    "numeric_cols = ['Price' , \"Bedrooms\" , \"Bathrooms\" , \"Area\"]\n",
    "for col in numeric_cols :\n",
    "    df[col] = pd.to_numeric(df[col] , errors=\"coerce\")\n",
    "\n",
    "\n",
    "# Select only columns with object type (text)\n",
    "cat_cols = df.select_dtypes(include='object').columns.tolist()\n",
    "\n",
    "for col in cat_cols:\n",
    "    df[col] = df[col].astype('category')\n"
   ]
  },
  {
   "cell_type": "markdown",
   "id": "8860b505",
   "metadata": {},
   "source": [
    "**2- Verify conversion**"
   ]
  },
  {
   "cell_type": "code",
   "execution_count": 8,
   "id": "013913ae",
   "metadata": {},
   "outputs": [
    {
     "name": "stdout",
     "output_type": "stream",
     "text": [
      "\n",
      "🟢 Updated data types:\n",
      "Type              category\n",
      "Price              float64\n",
      "Bedrooms           float64\n",
      "Bathrooms          float64\n",
      "Area               float64\n",
      "Furnished         category\n",
      "Level             category\n",
      "Compound          category\n",
      "Payment_Option    category\n",
      "Delivery_Date     category\n",
      "Delivery_Term     category\n",
      "City              category\n",
      "dtype: object\n"
     ]
    }
   ],
   "source": [
    "print(\"\\n🟢 Updated data types:\")\n",
    "print(df.dtypes)"
   ]
  },
  {
   "cell_type": "markdown",
   "id": "0fa97457",
   "metadata": {},
   "source": [
    "**3- memory improvement**"
   ]
  },
  {
   "cell_type": "code",
   "execution_count": 9,
   "id": "2a9e95ad",
   "metadata": {},
   "outputs": [
    {
     "name": "stdout",
     "output_type": "stream",
     "text": [
      "\n",
      "💾 Total memory usage before categorical conversion: 17.59 MB\n",
      "\n",
      "💾 Total memory usage after categorical conversion: 1.16 MB\n"
     ]
    }
   ],
   "source": [
    "memory_used = df.memory_usage(deep=\"True\").sum() / 1024**2\n",
    "\n",
    "\n",
    "print(f\"\\n💾 Total memory usage before categorical conversion: {memory_before:.2f} MB\")\n",
    "print(f\"\\n💾 Total memory usage after categorical conversion: {memory_used:.2f} MB\")\n"
   ]
  },
  {
   "cell_type": "markdown",
   "id": "550dc7e0",
   "metadata": {},
   "source": [
    "## 🧩 Step 1 — Data Understanding & Type Optimization\n",
    "\n",
    "### 🎯 Objective\n",
    "The goal of this step was to explore the dataset, understand its structure, \n",
    "and optimize data types to reduce memory usage and prepare it for cleaning and modeling.\n",
    "\n",
    "---\n",
    "\n",
    "### 📊 1. Dataset Overview\n",
    "- **Shape:** (27,361 rows × 12 columns)\n",
    "- **Initial Memory Usage:** 17.59 MB\n",
    "\n",
    "---\n",
    "\n",
    "### 🧠 2. Type Conversion\n",
    "**Numeric Columns Converted:**  \n",
    "`Price`, `Bedrooms`, `Bathrooms`, `Area` → converted from `object` → `float64`  \n",
    "`Level` → kept as `category` (since it includes special values like *Ground*, *Highest*, *Unknown*)  \n",
    "\n",
    "**Categorical Columns Converted:**  \n",
    "`Type`, `Furnished`, `Compound`, `Payment_Option`, `Delivery_Date`, `Delivery_Term`, `City` → converted from `object` → `category`  \n",
    "\n",
    "---\n",
    "\n",
    "### ⚙️ 3. Memory Optimization\n",
    "| Stage | Memory Usage (MB) |\n",
    "|:------|------------------:|\n",
    "| Before Optimization | 17.59 |\n",
    "| After Optimization | 1.16 |\n",
    "\n",
    "✅ **Memory Reduced by ~93.4%**\n",
    "---\n",
    "\n",
    "### 🧾 4. Results Summary\n",
    "- All numeric columns are properly typed (`float64`).  \n",
    "- Text columns with limited unique values are now `category`.  \n",
    "- The dataset is lighter, faster to process, and ready for cleaning.\n",
    "\n"
   ]
  },
  {
   "cell_type": "markdown",
   "id": "10fd264e",
   "metadata": {},
   "source": [
    "# 2- Data Cleaning"
   ]
  },
  {
   "cell_type": "markdown",
   "id": "4c8fff39",
   "metadata": {},
   "source": [
    "**1- Check missing values**"
   ]
  },
  {
   "cell_type": "code",
   "execution_count": 10,
   "id": "3ee5493b",
   "metadata": {},
   "outputs": [
    {
     "name": "stdout",
     "output_type": "stream",
     "text": [
      "🧾 Missing Values per Column:\n"
     ]
    },
    {
     "data": {
      "text/html": [
       "<div>\n",
       "<style scoped>\n",
       "    .dataframe tbody tr th:only-of-type {\n",
       "        vertical-align: middle;\n",
       "    }\n",
       "\n",
       "    .dataframe tbody tr th {\n",
       "        vertical-align: top;\n",
       "    }\n",
       "\n",
       "    .dataframe thead th {\n",
       "        text-align: right;\n",
       "    }\n",
       "</style>\n",
       "<table border=\"1\" class=\"dataframe\">\n",
       "  <thead>\n",
       "    <tr style=\"text-align: right;\">\n",
       "      <th></th>\n",
       "      <th>Missing Values</th>\n",
       "      <th>Missing %</th>\n",
       "    </tr>\n",
       "  </thead>\n",
       "  <tbody>\n",
       "    <tr>\n",
       "      <th>Area</th>\n",
       "      <td>507</td>\n",
       "      <td>1.85</td>\n",
       "    </tr>\n",
       "    <tr>\n",
       "      <th>Bathrooms</th>\n",
       "      <td>208</td>\n",
       "      <td>0.76</td>\n",
       "    </tr>\n",
       "    <tr>\n",
       "      <th>Bedrooms</th>\n",
       "      <td>240</td>\n",
       "      <td>0.88</td>\n",
       "    </tr>\n",
       "    <tr>\n",
       "      <th>City</th>\n",
       "      <td>0</td>\n",
       "      <td>0.00</td>\n",
       "    </tr>\n",
       "    <tr>\n",
       "      <th>Compound</th>\n",
       "      <td>0</td>\n",
       "      <td>0.00</td>\n",
       "    </tr>\n",
       "    <tr>\n",
       "      <th>Delivery_Date</th>\n",
       "      <td>0</td>\n",
       "      <td>0.00</td>\n",
       "    </tr>\n",
       "    <tr>\n",
       "      <th>Delivery_Term</th>\n",
       "      <td>0</td>\n",
       "      <td>0.00</td>\n",
       "    </tr>\n",
       "    <tr>\n",
       "      <th>Furnished</th>\n",
       "      <td>0</td>\n",
       "      <td>0.00</td>\n",
       "    </tr>\n",
       "    <tr>\n",
       "      <th>Level</th>\n",
       "      <td>0</td>\n",
       "      <td>0.00</td>\n",
       "    </tr>\n",
       "    <tr>\n",
       "      <th>Payment_Option</th>\n",
       "      <td>0</td>\n",
       "      <td>0.00</td>\n",
       "    </tr>\n",
       "    <tr>\n",
       "      <th>Price</th>\n",
       "      <td>39</td>\n",
       "      <td>0.14</td>\n",
       "    </tr>\n",
       "    <tr>\n",
       "      <th>Type</th>\n",
       "      <td>0</td>\n",
       "      <td>0.00</td>\n",
       "    </tr>\n",
       "  </tbody>\n",
       "</table>\n",
       "</div>"
      ],
      "text/plain": [
       "                Missing Values  Missing %\n",
       "Area                       507       1.85\n",
       "Bathrooms                  208       0.76\n",
       "Bedrooms                   240       0.88\n",
       "City                         0       0.00\n",
       "Compound                     0       0.00\n",
       "Delivery_Date                0       0.00\n",
       "Delivery_Term                0       0.00\n",
       "Furnished                    0       0.00\n",
       "Level                        0       0.00\n",
       "Payment_Option               0       0.00\n",
       "Price                       39       0.14\n",
       "Type                         0       0.00"
      ]
     },
     "metadata": {},
     "output_type": "display_data"
    }
   ],
   "source": [
    "missing_counts = df.isnull().sum().sort_values(ascending=False)\n",
    "missing_percent = (df.isnull().mean() * 100).round(2)\n",
    "\n",
    "missing_summary = pd.DataFrame({\n",
    "    'Missing Values': missing_counts,\n",
    "    'Missing %': missing_percent\n",
    "})\n",
    "\n",
    "print(\"🧾 Missing Values per Column:\")\n",
    "display(missing_summary)\n"
   ]
  },
  {
   "cell_type": "markdown",
   "id": "603b4f29",
   "metadata": {},
   "source": [
    "**2- Visualize Missing Values**"
   ]
  },
  {
   "cell_type": "code",
   "execution_count": 11,
   "id": "d86651ef",
   "metadata": {},
   "outputs": [
    {
     "data": {
      "image/png": "[encoded data removed]",
      "text/plain": [
       "<Figure size 2500x1000 with 3 Axes>"
      ]
     },
     "metadata": {},
     "output_type": "display_data"
    }
   ],
   "source": [
    "plt.figure(figsize=(10,6))\n",
    "msno.bar(df)\n",
    "plt.title(\"Missing Values per Column\")\n",
    "plt.show()\n"
   ]
  },
  {
   "cell_type": "markdown",
   "id": "2fb2f576",
   "metadata": {},
   "source": [
    "**3- Fill numeric missing values with median**"
   ]
  },
  {
   "cell_type": "code",
   "execution_count": 12,
   "id": "371f35f4",
   "metadata": {},
   "outputs": [
    {
     "name": "stdout",
     "output_type": "stream",
     "text": [
      "Price        0\n",
      "Area         0\n",
      "Bedrooms     0\n",
      "Bathrooms    0\n",
      "dtype: int64\n"
     ]
    }
   ],
   "source": [
    "numeric_cols = ['Price', 'Area', 'Bedrooms', 'Bathrooms']\n",
    "\n",
    "for col in numeric_cols:\n",
    "    df[col] = df[col].fillna(df[col].median())\n",
    "\n",
    "# Verify filling\n",
    "print(df[numeric_cols].isnull().sum())\n"
   ]
  },
  {
   "cell_type": "markdown",
   "id": "857e27a8",
   "metadata": {},
   "source": [
    "**4- Handle duplicated rows**"
   ]
  },
  {
   "cell_type": "code",
   "execution_count": 13,
   "id": "0676849b",
   "metadata": {},
   "outputs": [
    {
     "name": "stdout",
     "output_type": "stream",
     "text": [
      "✅ Remaining rows after removing duplicates: 25434\n"
     ]
    }
   ],
   "source": [
    "df.duplicated().sum()\n",
    "\n",
    "# Remove duplicates and reset index\n",
    "df = df.drop_duplicates().reset_index(drop=True)\n",
    "\n",
    "# Confirm removal\n",
    "print(f\"✅ Remaining rows after removing duplicates: {df.shape[0]}\")\n"
   ]
  },
  {
   "cell_type": "markdown",
   "id": "a6b57110",
   "metadata": {},
   "source": [
    "**5- Cleaning Type column**"
   ]
  },
  {
   "cell_type": "code",
   "execution_count": 14,
   "id": "beb483b6",
   "metadata": {},
   "outputs": [
    {
     "name": "stdout",
     "output_type": "stream",
     "text": [
      "🧾 Found 11 unique property types.\n"
     ]
    },
    {
     "data": {
      "text/plain": [
       "['Apartment',\n",
       " 'Chalet',\n",
       " 'Duplex',\n",
       " 'Penthouse',\n",
       " 'Stand Alone Villa',\n",
       " 'Standalone Villa',\n",
       " 'Studio',\n",
       " 'Town House',\n",
       " 'Twin House',\n",
       " 'Twin house',\n",
       " 'Unknown']"
      ]
     },
     "execution_count": 14,
     "metadata": {},
     "output_type": "execute_result"
    }
   ],
   "source": [
    "unique_types = sorted(df['Type'].dropna().unique())\n",
    "print(f\"🧾 Found {len(unique_types)} unique property types.\")\n",
    "unique_types\n"
   ]
  },
  {
   "cell_type": "code",
   "execution_count": 15,
   "id": "70f7908d",
   "metadata": {},
   "outputs": [
    {
     "data": {
      "text/html": [
       "<div>\n",
       "<style scoped>\n",
       "    .dataframe tbody tr th:only-of-type {\n",
       "        vertical-align: middle;\n",
       "    }\n",
       "\n",
       "    .dataframe tbody tr th {\n",
       "        vertical-align: top;\n",
       "    }\n",
       "\n",
       "    .dataframe thead th {\n",
       "        text-align: right;\n",
       "    }\n",
       "</style>\n",
       "<table border=\"1\" class=\"dataframe\">\n",
       "  <thead>\n",
       "    <tr style=\"text-align: right;\">\n",
       "      <th></th>\n",
       "      <th>Value 1</th>\n",
       "      <th>Value 2</th>\n",
       "      <th>Similarity (%)</th>\n",
       "    </tr>\n",
       "  </thead>\n",
       "  <tbody>\n",
       "    <tr>\n",
       "      <th>0</th>\n",
       "      <td>Stand Alone Villa</td>\n",
       "      <td>Standalone Villa</td>\n",
       "      <td>91</td>\n",
       "    </tr>\n",
       "    <tr>\n",
       "      <th>1</th>\n",
       "      <td>Town House</td>\n",
       "      <td>Twin House</td>\n",
       "      <td>90</td>\n",
       "    </tr>\n",
       "    <tr>\n",
       "      <th>2</th>\n",
       "      <td>Twin House</td>\n",
       "      <td>Twin house</td>\n",
       "      <td>90</td>\n",
       "    </tr>\n",
       "  </tbody>\n",
       "</table>\n",
       "</div>"
      ],
      "text/plain": [
       "             Value 1           Value 2  Similarity (%)\n",
       "0  Stand Alone Villa  Standalone Villa              91\n",
       "1         Town House        Twin House              90\n",
       "2         Twin House        Twin house              90"
      ]
     },
     "execution_count": 15,
     "metadata": {},
     "output_type": "execute_result"
    }
   ],
   "source": [
    "similar_pairs = []\n",
    "\n",
    "for i in range(len(unique_types)):\n",
    "    for j in range(i + 1, len(unique_types)):\n",
    "        score = fuzz.ratio(unique_types[i], unique_types[j]) # similarity score between 0 and 100\n",
    "        if 85 < score < 100:  # 100 means identical, skip that\n",
    "            similar_pairs.append((unique_types[i], unique_types[j], score))\n",
    "\n",
    "# Show results\n",
    "pd.DataFrame(similar_pairs, columns=[\"Value 1\", \"Value 2\", \"Similarity (%)\"]).sort_values(by=\"Similarity (%)\", ascending=False).head(20)\n"
   ]
  },
  {
   "cell_type": "code",
   "execution_count": 16,
   "id": "ca6906ef",
   "metadata": {},
   "outputs": [],
   "source": [
    "df['Type'] = df['Type'].str.lower().str.strip()\n",
    "\n",
    "df['Type'] = df['Type'].replace({\n",
    "    'stand alone villa': 'standalone villa',\n",
    "    'stand alone villa': 'standalone villa',\n",
    "    'twinhouse': 'twin house',\n",
    "    'townhouse': 'town house'\n",
    "})\n"
   ]
  },
  {
   "cell_type": "code",
   "execution_count": 17,
   "id": "ba11d0b3",
   "metadata": {},
   "outputs": [
    {
     "name": "stdout",
     "output_type": "stream",
     "text": [
      "['apartment', 'chalet', 'duplex', 'penthouse', 'standalone villa', 'studio', 'town house', 'twin house', 'unknown']\n"
     ]
    }
   ],
   "source": [
    "print(sorted(df['Type'].dropna().unique()))\n"
   ]
  },
  {
   "cell_type": "markdown",
   "id": "b6489cc5",
   "metadata": {},
   "source": [
    "**6- Normalize Furnished , Payment_Option , Delivery_Date , Delivery_Term , Compound**"
   ]
  },
  {
   "cell_type": "code",
   "execution_count": 18,
   "id": "df8af02f",
   "metadata": {},
   "outputs": [
    {
     "name": "stdout",
     "output_type": "stream",
     "text": [
      "\n",
      "Payment_Option unique values:\n",
      " ['cash' 'cash or installment' 'unknown payment' 'installment']\n",
      "\n",
      "Furnished unique values:\n",
      " ['no' 'unknown' 'yes']\n",
      "\n",
      "560 unique compounds after cleaning\n"
     ]
    }
   ],
   "source": [
    "cols = [\"Furnished\" ,\"Payment_Option\" , \"Delivery_Date\" , \"Delivery_Term\" , \"Compound\"]\n",
    "\n",
    "for col in cols:\n",
    "    df[col] = df[col].str.lower().str.strip()\n",
    "\n",
    "for col in ['Payment_Option', 'Furnished']:\n",
    "    print(f\"\\n{col} unique values:\\n\", df[col].unique())\n",
    "\n",
    "print(f\"\\n{df['Compound'].nunique()} unique compounds after cleaning\")\n",
    "\n"
   ]
  },
  {
   "cell_type": "markdown",
   "id": "3bfe7f0d",
   "metadata": {},
   "source": [
    "**7- Clean Delivery_Date column**"
   ]
  },
  {
   "cell_type": "code",
   "execution_count": 19,
   "id": "24195e94",
   "metadata": {},
   "outputs": [
    {
     "name": "stdout",
     "output_type": "stream",
     "text": [
      "['ready_to_move' '2024' 'unknown' '2023' 'within_6_months' '2025' '2022'\n",
      " '2026' '2027']\n"
     ]
    }
   ],
   "source": [
    "# Replace inconsistent \n",
    "df['Delivery_Date'] = df['Delivery_Date'].replace({\n",
    "    'ready to move': 'ready_to_move',\n",
    "    'soon': 'within_6_months',\n",
    "    'within 6 months': 'within_6_months',  # unify format\n",
    "})\n",
    "\n",
    "print(df['Delivery_Date'].unique())\n"
   ]
  },
  {
   "cell_type": "markdown",
   "id": "4ce9a231",
   "metadata": {},
   "source": [
    "**8- Clean Delivery_Term column**"
   ]
  },
  {
   "cell_type": "code",
   "execution_count": 20,
   "id": "f6d84f6f",
   "metadata": {},
   "outputs": [
    {
     "name": "stdout",
     "output_type": "stream",
     "text": [
      "['finished' 'semi_finished' 'core_and_shell' 'unknown' 'not_finished']\n"
     ]
    }
   ],
   "source": [
    "# Replace inconsistent values\n",
    "df['Delivery_Term'] = df['Delivery_Term'].replace({\n",
    "    'semi finished': 'semi_finished',\n",
    "    'core & shell': 'core_and_shell',\n",
    "    'not finished': 'not_finished',\n",
    "})\n",
    "\n",
    "print(df['Delivery_Term'].unique())\n"
   ]
  },
  {
   "cell_type": "code",
   "execution_count": 21,
   "id": "da14f7ec",
   "metadata": {},
   "outputs": [
    {
     "data": {
      "text/plain": [
       "np.float64(1.2789087295532227)"
      ]
     },
     "execution_count": 21,
     "metadata": {},
     "output_type": "execute_result"
    }
   ],
   "source": [
    "df = df.drop_duplicates()\n",
    "cat_cols = ['Type', 'Furnished', 'Payment_Option', 'Delivery_Date', 'Delivery_Term', 'Compound']\n",
    "df[cat_cols] = df[cat_cols].astype('category')\n",
    "\n",
    "\n",
    "memory_after_cleaning = df.memory_usage(deep=\"True\").sum() / 1024 **2\n",
    "memory_after_cleaning"
   ]
  },
  {
   "cell_type": "markdown",
   "id": "1c8129d0",
   "metadata": {},
   "source": [
    "## 🧹 Step 2: Data Cleaning Summary\n",
    "\n",
    "### 🎯 Goal\n",
    "Prepare and clean the dataset for analysis by:\n",
    "- Removing duplicates  \n",
    "- Handling missing values  \n",
    "- Standardizing text formats  \n",
    "- Optimizing categorical columns  \n",
    "\n",
    "---\n",
    "\n",
    "### 🧾 Actions Performed\n",
    "\n",
    "1. **Removed duplicate rows**  \n",
    "   - Ensured dataset contains only unique listings.  \n",
    "   - ✅ Remaining rows: **25,433**\n",
    "\n",
    "2. **Handled missing values**  \n",
    "   - Columns affected: `[\"Furnished\", \"Payment_Option\", \"Delivery_Date\", \"Delivery_Term\", \"Compound\"]`\n",
    "\n",
    "3. **Normalized text columns**  \n",
    "   - Converted to lowercase and removed extra spaces.  \n",
    "   - Example: `\" Ready to move \"` → `\"ready to move\"`\n",
    "\n",
    "4. **Standardized inconsistent category names**  \n",
    "   - Fixed variations like:\n",
    "     - `\"stand alone villa\"` → `\"standalone villa\"`\n",
    "     - `\"twinhouse\"` → `\"twin house\"`\n",
    "     - `\"townhouse\"` → `\"town house\"`\n",
    "\n",
    "5. **Kept “unknown” categories instead of dropping them**  \n",
    "   - These represent valid real-world cases (e.g., unlisted compounds).\n",
    "\n",
    "---\n",
    "\n",
    "### 📊 Dataset Overview\n",
    "- **Shape:** (25,433 rows × 12 columns)  \n",
    "- **No missing values**  \n",
    "- **No duplicate entries**  \n",
    "- **All columns correctly typed (numeric or categorical)**  \n",
    "\n",
    "---\n",
    "\n",
    "### 🧮 Memory Optimization\n",
    "| Stage | Memory Usage |\n",
    "|-------|---------------|\n",
    "| Before Cleaning | ~17.59 MB |\n",
    "| After Cleaning & Optimization | **~1.27 MB** |\n"
   ]
  },
  {
   "cell_type": "markdown",
   "id": "67565b36",
   "metadata": {},
   "source": [
    "# 3- Exploratory Data Analysis (EDA)"
   ]
  },
  {
   "cell_type": "markdown",
   "id": "f41e343a",
   "metadata": {},
   "source": [
    "**1- Distribution of Numerical Features**"
   ]
  },
  {
   "cell_type": "code",
   "execution_count": 22,
   "id": "cfe68f06",
   "metadata": {},
   "outputs": [
    {
     "data": {
      "image/png": "[encoded data removed]",
      "text/plain": [
       "<Figure size 1200x800 with 4 Axes>"
      ]
     },
     "metadata": {},
     "output_type": "display_data"
    }
   ],
   "source": [
    "num_cols = ['Price', 'Area', 'Bedrooms', 'Bathrooms']\n",
    "\n",
    "df[num_cols].hist(bins=30, figsize=(12, 8), edgecolor='black')\n",
    "plt.suptitle(\"Distribution of Numerical Features\", fontsize=16)\n",
    "plt.show()\n"
   ]
  },
  {
   "cell_type": "markdown",
   "id": "1c30964c",
   "metadata": {},
   "source": [
    "**🧩Insights from Numerical Distributions**\n",
    "- **Price**: Right-skewed — most properties are within a moderate price range, but a few luxury listings are extremely high.\n",
    "- **Area**: Also right-skewed — most houses fall into average sizes with a few very large properties.\n",
    "- **Bedrooms/Bathrooms**: Most houses have 2–4 bedrooms and 1–3 bathrooms, indicating typical family units.\n"
   ]
  },
  {
   "cell_type": "markdown",
   "id": "f92e74e3",
   "metadata": {},
   "source": [
    "**2- Detect Outliers**"
   ]
  },
  {
   "cell_type": "code",
   "execution_count": 23,
   "id": "ac39a9bd",
   "metadata": {},
   "outputs": [
    {
     "data": {
      "image/png": "[encoded data removed]",
      "text/plain": [
       "<Figure size 800x400 with 1 Axes>"
      ]
     },
     "metadata": {},
     "output_type": "display_data"
    },
    {
     "data": {
      "image/png": "[encoded data removed]",
      "text/plain": [
       "<Figure size 800x400 with 1 Axes>"
      ]
     },
     "metadata": {},
     "output_type": "display_data"
    },
    {
     "data": {
      "image/png": "[encoded data removed]",
      "text/plain": [
       "<Figure size 800x400 with 1 Axes>"
      ]
     },
     "metadata": {},
     "output_type": "display_data"
    },
    {
     "data": {
      "image/png": "[encoded data removed]",
      "text/plain": [
       "<Figure size 800x400 with 1 Axes>"
      ]
     },
     "metadata": {},
     "output_type": "display_data"
    }
   ],
   "source": [
    "for col in ['Price', 'Area', 'Bedrooms', 'Bathrooms']:\n",
    "    plt.figure(figsize=(8, 4))\n",
    "    sns.boxplot(x=df[col])\n",
    "    plt.title(f\"Boxplot of {col}\")\n",
    "    plt.show()\n"
   ]
  },
  {
   "cell_type": "markdown",
   "id": "249550de",
   "metadata": {},
   "source": [
    "**📦 Outlier Analysis**\n",
    "- Significant outliers exist in **Price** and **Area** — these represent luxury or large properties.\n",
    "- Outliers are meaningful in real estate, so they were **not removed** to preserve important information about high-end properties.\n"
   ]
  },
  {
   "cell_type": "markdown",
   "id": "4e5dbc66",
   "metadata": {},
   "source": [
    "**3- Correlation Heatmap**"
   ]
  },
  {
   "cell_type": "code",
   "execution_count": 24,
   "id": "5aa6bbd5",
   "metadata": {},
   "outputs": [
    {
     "data": {
      "image/png": "[encoded data removed]",
      "text/plain": [
       "<Figure size 600x400 with 2 Axes>"
      ]
     },
     "metadata": {},
     "output_type": "display_data"
    }
   ],
   "source": [
    "corr = df[['Price', 'Area', 'Bedrooms', 'Bathrooms']].corr()\n",
    "\n",
    "plt.figure(figsize=(6, 4))\n",
    "sns.heatmap(corr, annot=True, cmap=\"coolwarm\", fmt=\".2f\")\n",
    "plt.title(\"Correlation Between Numerical Features\")\n",
    "plt.show()\n"
   ]
  },
  {
   "cell_type": "markdown",
   "id": "85aca66b",
   "metadata": {},
   "source": [
    "**🔗 Correlation Insights (Numerical Features)**\n",
    "\n",
    "- **Bathrooms (0.56)** and **Area (0.52)** show the strongest positive correlation with **Price**.  \n",
    "- **Bedrooms (0.45)** also correlate positively but less strongly.  \n",
    "- These results confirm that **property size and amenities** are the main drivers of price.  \n",
    "\n"
   ]
  },
  {
   "cell_type": "markdown",
   "id": "79377780",
   "metadata": {},
   "source": [
    "**4- Distribution of Categorical Features**"
   ]
  },
  {
   "cell_type": "code",
   "execution_count": 25,
   "id": "e8c26fad",
   "metadata": {},
   "outputs": [
    {
     "data": {
      "image/png": "[encoded data removed]",
      "text/plain": [
       "<Figure size 1000x500 with 1 Axes>"
      ]
     },
     "metadata": {},
     "output_type": "display_data"
    },
    {
     "data": {
      "image/png": "[encoded data removed]",
      "text/plain": [
       "<Figure size 1000x500 with 1 Axes>"
      ]
     },
     "metadata": {},
     "output_type": "display_data"
    },
    {
     "data": {
      "image/png": "[encoded data removed]",
      "text/plain": [
       "<Figure size 1000x500 with 1 Axes>"
      ]
     },
     "metadata": {},
     "output_type": "display_data"
    },
    {
     "data": {
      "image/png": "[encoded data removed]",
      "text/plain": [
       "<Figure size 1000x500 with 1 Axes>"
      ]
     },
     "metadata": {},
     "output_type": "display_data"
    },
    {
     "data": {
      "image/png": "[encoded data removed]",
      "text/plain": [
       "<Figure size 1000x500 with 1 Axes>"
      ]
     },
     "metadata": {},
     "output_type": "display_data"
    }
   ],
   "source": [
    "cat_cols = ['Type', 'Payment_Option', 'Delivery_Term', 'Delivery_Date', 'City']\n",
    "\n",
    "for col in cat_cols:\n",
    "    plt.figure(figsize=(10, 5))\n",
    "    df[col].value_counts().head(10).plot(kind='bar', color='skyblue', edgecolor='black')\n",
    "    plt.title(f\"Top {col} Categories\")\n",
    "    plt.xlabel(col)\n",
    "    plt.ylabel(\"Count\")\n",
    "    plt.show()\n"
   ]
  },
  {
   "cell_type": "markdown",
   "id": "83134287",
   "metadata": {},
   "source": [
    "***🏘️ Categorical Feature Insights***\n",
    "- The most common **property types** are *apartments* and *Chalet*.\n",
    "- **Payment options** are diverse — indicating flexibility in purchase terms.\n",
    "- **Delivery terms/dates** suggest many ready-to-move or near-completion projects.\n",
    "- **Cities** show uneven distribution; New Cairo and North Coast dominate the listings.\n"
   ]
  },
  {
   "cell_type": "markdown",
   "id": "62c8fb86",
   "metadata": {},
   "source": [
    "**5- Furnished vs Unfurnished**"
   ]
  },
  {
   "cell_type": "code",
   "execution_count": 26,
   "id": "fa304633",
   "metadata": {},
   "outputs": [
    {
     "data": {
      "image/png": "[encoded data removed]",
      "text/plain": [
       "<Figure size 600x600 with 1 Axes>"
      ]
     },
     "metadata": {},
     "output_type": "display_data"
    }
   ],
   "source": [
    "df['Furnished'].value_counts().plot(\n",
    "    kind='pie', autopct='%1.1f%%', startangle=90, figsize=(6,6),\n",
    "    colors=sns.color_palette('pastel')\n",
    ")\n",
    "plt.title(\"Furnished vs Unfurnished Houses\")\n",
    "plt.ylabel(\"\")\n",
    "plt.show()\n"
   ]
  },
  {
   "cell_type": "markdown",
   "id": "46056bf5",
   "metadata": {},
   "source": [
    "***🛋️ Furnishing Insights***\n",
    "- Around 8.8%  of listings are **furnished**.\n",
    "- Majority of listings are **unfurnished**, possibly indicating properties aimed at long-term owners rather than short-term rentals.\n"
   ]
  },
  {
   "cell_type": "markdown",
   "id": "21353cb8",
   "metadata": {},
   "source": [
    "## 📊 Exploratory Data Analysis (EDA) Summary\n",
    "\n",
    "- **Dataset shape:** 25,433 rows × 12 columns after cleaning and deduplication.  \n",
    "- **Outliers:** Kept intentionally, as high-value listings reflect real market diversity.  \n",
    "- **Numerical features:** \n",
    "  - Price and Area are right-skewed, with a few luxury outliers.  \n",
    "  - Most properties have 2–4 bedrooms and 1–3 bathrooms.  \n",
    "- **Categorical features:** \n",
    "  - Apartments and chalets dominate the listings.  \n",
    "  - New Cairo and North Coast are the most frequent cities.  \n",
    "  - Most properties are unfurnished and ready to move.  \n",
    "- **Correlation insights:** \n",
    "  - Bathrooms (0.56) and Area (0.52) have the strongest impact on Price.  \n",
    "  - Bedrooms (0.49) also relate positively but less strongly.  \n",
    "- **Key takeaway:**  \n",
    "  - Price depends mainly on **property size, facilities, and location**.  \n"
   ]
  },
  {
   "cell_type": "code",
   "execution_count": 27,
   "id": "baa2ee71",
   "metadata": {},
   "outputs": [],
   "source": [
    "df.to_csv(\"cleaned_egypt_houses.csv\", index=False)"
   ]
  },
  {
   "cell_type": "markdown",
   "id": "2760db08",
   "metadata": {},
   "source": [
    "# 4- Feature Engineering"
   ]
  },
  {
   "cell_type": "markdown",
   "id": "9f9fc2ce",
   "metadata": {},
   "source": [
    "**1- Creating New Features**"
   ]
  },
  {
   "cell_type": "code",
   "execution_count": 28,
   "id": "9af726c6",
   "metadata": {},
   "outputs": [],
   "source": [
    "df['price_per_m2'] = df['Price'] / df['Area']\n",
    "df['total_rooms'] = df['Bedrooms'] + df['Bathrooms']\n"
   ]
  },
  {
   "cell_type": "markdown",
   "id": "0862de6b",
   "metadata": {},
   "source": [
    "**2- Handle Skewed Distributions**"
   ]
  },
  {
   "cell_type": "code",
   "execution_count": 29,
   "id": "28332f4c",
   "metadata": {},
   "outputs": [],
   "source": [
    "df['Log_Price'] = np.log1p(df['Price'])\n",
    "df['Log_Area'] = np.log1p(df['Area'])\n"
   ]
  },
  {
   "cell_type": "markdown",
   "id": "640382db",
   "metadata": {},
   "source": [
    "**3- Encode Categorical Features**"
   ]
  },
  {
   "cell_type": "code",
   "execution_count": 30,
   "id": "913039f8",
   "metadata": {},
   "outputs": [],
   "source": [
    "label_enc = LabelEncoder()\n",
    "categorical_cols = ['City', 'Type', 'Furnished', 'Delivery_Term']\n",
    "\n",
    "for col in categorical_cols:\n",
    "    df[col] = label_enc.fit_transform(df[col].astype(str))\n"
   ]
  },
  {
   "cell_type": "markdown",
   "id": "8e327943",
   "metadata": {},
   "source": [
    "**4- Drop High-cardinality Columns**"
   ]
  },
  {
   "cell_type": "code",
   "execution_count": 31,
   "id": "eda9b0c8",
   "metadata": {},
   "outputs": [],
   "source": [
    "df = df.drop(['Compound', 'Developer'], axis=1, errors='ignore')\n"
   ]
  },
  {
   "cell_type": "code",
   "execution_count": 32,
   "id": "4fdf3742",
   "metadata": {},
   "outputs": [
    {
     "name": "stdout",
     "output_type": "stream",
     "text": [
      "<class 'pandas.core.frame.DataFrame'>\n",
      "Index: 25433 entries, 0 to 25433\n",
      "Data columns (total 15 columns):\n",
      " #   Column          Non-Null Count  Dtype   \n",
      "---  ------          --------------  -----   \n",
      " 0   Type            25433 non-null  int64   \n",
      " 1   Price           25433 non-null  float64 \n",
      " 2   Bedrooms        25433 non-null  float64 \n",
      " 3   Bathrooms       25433 non-null  float64 \n",
      " 4   Area            25433 non-null  float64 \n",
      " 5   Furnished       25433 non-null  int64   \n",
      " 6   Level           25433 non-null  category\n",
      " 7   Payment_Option  25433 non-null  category\n",
      " 8   Delivery_Date   25433 non-null  category\n",
      " 9   Delivery_Term   25433 non-null  int64   \n",
      " 10  City            25433 non-null  int64   \n",
      " 11  price_per_m2    25433 non-null  float64 \n",
      " 12  total_rooms     25433 non-null  float64 \n",
      " 13  Log_Price       25433 non-null  float64 \n",
      " 14  Log_Area        25433 non-null  float64 \n",
      "dtypes: category(3), float64(8), int64(4)\n",
      "memory usage: 2.6 MB\n"
     ]
    },
    {
     "data": {
      "text/html": [
       "<div>\n",
       "<style scoped>\n",
       "    .dataframe tbody tr th:only-of-type {\n",
       "        vertical-align: middle;\n",
       "    }\n",
       "\n",
       "    .dataframe tbody tr th {\n",
       "        vertical-align: top;\n",
       "    }\n",
       "\n",
       "    .dataframe thead th {\n",
       "        text-align: right;\n",
       "    }\n",
       "</style>\n",
       "<table border=\"1\" class=\"dataframe\">\n",
       "  <thead>\n",
       "    <tr style=\"text-align: right;\">\n",
       "      <th></th>\n",
       "      <th>Type</th>\n",
       "      <th>Price</th>\n",
       "      <th>Bedrooms</th>\n",
       "      <th>Bathrooms</th>\n",
       "      <th>Area</th>\n",
       "      <th>Furnished</th>\n",
       "      <th>Level</th>\n",
       "      <th>Payment_Option</th>\n",
       "      <th>Delivery_Date</th>\n",
       "      <th>Delivery_Term</th>\n",
       "      <th>City</th>\n",
       "      <th>price_per_m2</th>\n",
       "      <th>total_rooms</th>\n",
       "      <th>Log_Price</th>\n",
       "      <th>Log_Area</th>\n",
       "    </tr>\n",
       "  </thead>\n",
       "  <tbody>\n",
       "    <tr>\n",
       "      <th>0</th>\n",
       "      <td>2</td>\n",
       "      <td>4000000.0</td>\n",
       "      <td>3.0</td>\n",
       "      <td>3.0</td>\n",
       "      <td>400.0</td>\n",
       "      <td>0</td>\n",
       "      <td>7</td>\n",
       "      <td>cash</td>\n",
       "      <td>ready_to_move</td>\n",
       "      <td>1</td>\n",
       "      <td>117</td>\n",
       "      <td>10000.000000</td>\n",
       "      <td>6.0</td>\n",
       "      <td>15.201805</td>\n",
       "      <td>5.993961</td>\n",
       "    </tr>\n",
       "    <tr>\n",
       "      <th>1</th>\n",
       "      <td>0</td>\n",
       "      <td>4000000.0</td>\n",
       "      <td>3.0</td>\n",
       "      <td>3.0</td>\n",
       "      <td>160.0</td>\n",
       "      <td>0</td>\n",
       "      <td>10+</td>\n",
       "      <td>cash</td>\n",
       "      <td>ready_to_move</td>\n",
       "      <td>1</td>\n",
       "      <td>42</td>\n",
       "      <td>25000.000000</td>\n",
       "      <td>6.0</td>\n",
       "      <td>15.201805</td>\n",
       "      <td>5.081404</td>\n",
       "    </tr>\n",
       "    <tr>\n",
       "      <th>2</th>\n",
       "      <td>0</td>\n",
       "      <td>2250000.0</td>\n",
       "      <td>3.0</td>\n",
       "      <td>2.0</td>\n",
       "      <td>165.0</td>\n",
       "      <td>0</td>\n",
       "      <td>1</td>\n",
       "      <td>cash</td>\n",
       "      <td>ready_to_move</td>\n",
       "      <td>1</td>\n",
       "      <td>166</td>\n",
       "      <td>13636.363636</td>\n",
       "      <td>5.0</td>\n",
       "      <td>14.626441</td>\n",
       "      <td>5.111988</td>\n",
       "    </tr>\n",
       "    <tr>\n",
       "      <th>3</th>\n",
       "      <td>0</td>\n",
       "      <td>1900000.0</td>\n",
       "      <td>3.0</td>\n",
       "      <td>2.0</td>\n",
       "      <td>230.0</td>\n",
       "      <td>0</td>\n",
       "      <td>10</td>\n",
       "      <td>cash</td>\n",
       "      <td>ready_to_move</td>\n",
       "      <td>1</td>\n",
       "      <td>117</td>\n",
       "      <td>8260.869565</td>\n",
       "      <td>5.0</td>\n",
       "      <td>14.457365</td>\n",
       "      <td>5.442418</td>\n",
       "    </tr>\n",
       "    <tr>\n",
       "      <th>4</th>\n",
       "      <td>0</td>\n",
       "      <td>5800000.0</td>\n",
       "      <td>2.0</td>\n",
       "      <td>3.0</td>\n",
       "      <td>160.0</td>\n",
       "      <td>0</td>\n",
       "      <td>Ground</td>\n",
       "      <td>cash</td>\n",
       "      <td>ready_to_move</td>\n",
       "      <td>3</td>\n",
       "      <td>119</td>\n",
       "      <td>36250.000000</td>\n",
       "      <td>5.0</td>\n",
       "      <td>15.573369</td>\n",
       "      <td>5.081404</td>\n",
       "    </tr>\n",
       "  </tbody>\n",
       "</table>\n",
       "</div>"
      ],
      "text/plain": [
       "   Type      Price  Bedrooms  Bathrooms   Area  Furnished   Level  \\\n",
       "0     2  4000000.0       3.0        3.0  400.0          0       7   \n",
       "1     0  4000000.0       3.0        3.0  160.0          0     10+   \n",
       "2     0  2250000.0       3.0        2.0  165.0          0       1   \n",
       "3     0  1900000.0       3.0        2.0  230.0          0      10   \n",
       "4     0  5800000.0       2.0        3.0  160.0          0  Ground   \n",
       "\n",
       "  Payment_Option  Delivery_Date  Delivery_Term  City  price_per_m2  \\\n",
       "0           cash  ready_to_move              1   117  10000.000000   \n",
       "1           cash  ready_to_move              1    42  25000.000000   \n",
       "2           cash  ready_to_move              1   166  13636.363636   \n",
       "3           cash  ready_to_move              1   117   8260.869565   \n",
       "4           cash  ready_to_move              3   119  36250.000000   \n",
       "\n",
       "   total_rooms  Log_Price  Log_Area  \n",
       "0          6.0  15.201805  5.993961  \n",
       "1          6.0  15.201805  5.081404  \n",
       "2          5.0  14.626441  5.111988  \n",
       "3          5.0  14.457365  5.442418  \n",
       "4          5.0  15.573369  5.081404  "
      ]
     },
     "metadata": {},
     "output_type": "display_data"
    },
    {
     "data": {
      "text/html": [
       "<div>\n",
       "<style scoped>\n",
       "    .dataframe tbody tr th:only-of-type {\n",
       "        vertical-align: middle;\n",
       "    }\n",
       "\n",
       "    .dataframe tbody tr th {\n",
       "        vertical-align: top;\n",
       "    }\n",
       "\n",
       "    .dataframe thead th {\n",
       "        text-align: right;\n",
       "    }\n",
       "</style>\n",
       "<table border=\"1\" class=\"dataframe\">\n",
       "  <thead>\n",
       "    <tr style=\"text-align: right;\">\n",
       "      <th></th>\n",
       "      <th>Type</th>\n",
       "      <th>Price</th>\n",
       "      <th>Bedrooms</th>\n",
       "      <th>Bathrooms</th>\n",
       "      <th>Area</th>\n",
       "      <th>Furnished</th>\n",
       "      <th>Level</th>\n",
       "      <th>Payment_Option</th>\n",
       "      <th>Delivery_Date</th>\n",
       "      <th>Delivery_Term</th>\n",
       "      <th>City</th>\n",
       "      <th>price_per_m2</th>\n",
       "      <th>total_rooms</th>\n",
       "      <th>Log_Price</th>\n",
       "      <th>Log_Area</th>\n",
       "    </tr>\n",
       "  </thead>\n",
       "  <tbody>\n",
       "    <tr>\n",
       "      <th>25429</th>\n",
       "      <td>6</td>\n",
       "      <td>890000.0</td>\n",
       "      <td>3.0</td>\n",
       "      <td>2.0</td>\n",
       "      <td>240.0</td>\n",
       "      <td>1</td>\n",
       "      <td>Unknown</td>\n",
       "      <td>unknown payment</td>\n",
       "      <td>unknown</td>\n",
       "      <td>4</td>\n",
       "      <td>126</td>\n",
       "      <td>3708.333333</td>\n",
       "      <td>5.0</td>\n",
       "      <td>13.698978</td>\n",
       "      <td>5.484797</td>\n",
       "    </tr>\n",
       "    <tr>\n",
       "      <th>25430</th>\n",
       "      <td>6</td>\n",
       "      <td>4000000.0</td>\n",
       "      <td>4.0</td>\n",
       "      <td>3.0</td>\n",
       "      <td>218.0</td>\n",
       "      <td>1</td>\n",
       "      <td>Unknown</td>\n",
       "      <td>cash or installment</td>\n",
       "      <td>unknown</td>\n",
       "      <td>1</td>\n",
       "      <td>119</td>\n",
       "      <td>18348.623853</td>\n",
       "      <td>7.0</td>\n",
       "      <td>15.201805</td>\n",
       "      <td>5.389072</td>\n",
       "    </tr>\n",
       "    <tr>\n",
       "      <th>25431</th>\n",
       "      <td>7</td>\n",
       "      <td>13800000.0</td>\n",
       "      <td>3.0</td>\n",
       "      <td>4.0</td>\n",
       "      <td>308.0</td>\n",
       "      <td>0</td>\n",
       "      <td>Unknown</td>\n",
       "      <td>cash</td>\n",
       "      <td>ready_to_move</td>\n",
       "      <td>3</td>\n",
       "      <td>119</td>\n",
       "      <td>44805.194805</td>\n",
       "      <td>7.0</td>\n",
       "      <td>16.440179</td>\n",
       "      <td>5.733341</td>\n",
       "    </tr>\n",
       "    <tr>\n",
       "      <th>25432</th>\n",
       "      <td>4</td>\n",
       "      <td>35000000.0</td>\n",
       "      <td>4.0</td>\n",
       "      <td>4.0</td>\n",
       "      <td>478.0</td>\n",
       "      <td>1</td>\n",
       "      <td>Unknown</td>\n",
       "      <td>unknown payment</td>\n",
       "      <td>unknown</td>\n",
       "      <td>1</td>\n",
       "      <td>113</td>\n",
       "      <td>73221.757322</td>\n",
       "      <td>8.0</td>\n",
       "      <td>17.370859</td>\n",
       "      <td>6.171701</td>\n",
       "    </tr>\n",
       "    <tr>\n",
       "      <th>25433</th>\n",
       "      <td>4</td>\n",
       "      <td>4800000.0</td>\n",
       "      <td>5.0</td>\n",
       "      <td>5.0</td>\n",
       "      <td>175.0</td>\n",
       "      <td>0</td>\n",
       "      <td>Unknown</td>\n",
       "      <td>cash</td>\n",
       "      <td>unknown</td>\n",
       "      <td>1</td>\n",
       "      <td>159</td>\n",
       "      <td>27428.571429</td>\n",
       "      <td>10.0</td>\n",
       "      <td>15.384127</td>\n",
       "      <td>5.170484</td>\n",
       "    </tr>\n",
       "  </tbody>\n",
       "</table>\n",
       "</div>"
      ],
      "text/plain": [
       "       Type       Price  Bedrooms  Bathrooms   Area  Furnished    Level  \\\n",
       "25429     6    890000.0       3.0        2.0  240.0          1  Unknown   \n",
       "25430     6   4000000.0       4.0        3.0  218.0          1  Unknown   \n",
       "25431     7  13800000.0       3.0        4.0  308.0          0  Unknown   \n",
       "25432     4  35000000.0       4.0        4.0  478.0          1  Unknown   \n",
       "25433     4   4800000.0       5.0        5.0  175.0          0  Unknown   \n",
       "\n",
       "            Payment_Option  Delivery_Date  Delivery_Term  City  price_per_m2  \\\n",
       "25429      unknown payment        unknown              4   126   3708.333333   \n",
       "25430  cash or installment        unknown              1   119  18348.623853   \n",
       "25431                 cash  ready_to_move              3   119  44805.194805   \n",
       "25432      unknown payment        unknown              1   113  73221.757322   \n",
       "25433                 cash        unknown              1   159  27428.571429   \n",
       "\n",
       "       total_rooms  Log_Price  Log_Area  \n",
       "25429          5.0  13.698978  5.484797  \n",
       "25430          7.0  15.201805  5.389072  \n",
       "25431          7.0  16.440179  5.733341  \n",
       "25432          8.0  17.370859  6.171701  \n",
       "25433         10.0  15.384127  5.170484  "
      ]
     },
     "metadata": {},
     "output_type": "display_data"
    }
   ],
   "source": [
    "# ✅ Verify feature structure\n",
    "df.info()\n",
    "display(df.head())\n",
    "display(df.tail())\n"
   ]
  },
  {
   "cell_type": "markdown",
   "id": "2870e164",
   "metadata": {},
   "source": [
    "🧱**Feature Engineering Summary**\n",
    "\n",
    "- Created new features:  \n",
    "  - **`price_per_m2`** → Price divided by Area  \n",
    "  - **`total_rooms`** → Sum of Bedrooms and Bathrooms  \n",
    "\n",
    "- Applied **log transformation** on:\n",
    "  - `Price` → `Log_Price`\n",
    "  - `Area` → `Log_Area`  \n",
    "  _(to reduce skewness and improve model performance)_\n",
    "\n",
    "- **Encoded categorical columns** using `LabelEncoder`:  \n",
    "  - `City`, `Type`, `Furnished`, `Delivery_Term`\n",
    "\n",
    "- **Dropped less informative columns**:  \n",
    "  - `Compound`, `Developer`\n",
    "\n",
    "- ✅ The dataset now contains **15 clean and transformed features**, ready for model building.\n"
   ]
  },
  {
   "cell_type": "markdown",
   "id": "ab491039",
   "metadata": {},
   "source": [
    "# 5- Machine learning Models"
   ]
  },
  {
   "cell_type": "markdown",
   "id": "48549231",
   "metadata": {},
   "source": [
    "**1- Define Features and Target**"
   ]
  },
  {
   "cell_type": "code",
   "execution_count": 33,
   "id": "2e8c7f9a",
   "metadata": {},
   "outputs": [
    {
     "name": "stdout",
     "output_type": "stream",
     "text": [
      "✅ Features shape: (25433, 14)\n",
      "✅ Target shape: (25433,)\n"
     ]
    }
   ],
   "source": [
    "X = df.drop('Price', axis=1)\n",
    "y = df['Price']\n",
    "\n",
    "print(\"✅ Features shape:\", X.shape)\n",
    "print(\"✅ Target shape:\", y.shape)\n"
   ]
  },
  {
   "cell_type": "markdown",
   "id": "3e0293d0",
   "metadata": {},
   "source": [
    "**2- Split Data into Train and Test Sets**"
   ]
  },
  {
   "cell_type": "code",
   "execution_count": 34,
   "id": "d46e5e33",
   "metadata": {},
   "outputs": [
    {
     "name": "stdout",
     "output_type": "stream",
     "text": [
      "✅ X_train: (20346, 14)\n",
      "✅ X_test: (5087, 14)\n"
     ]
    }
   ],
   "source": [
    "# Split dataset (80% train, 20% test)\n",
    "X_train, X_test, y_train, y_test = train_test_split(\n",
    "    X, y, test_size=0.2, random_state=42\n",
    ")\n",
    "\n",
    "print(\"✅ X_train:\", X_train.shape)\n",
    "print(\"✅ X_test:\", X_test.shape)\n"
   ]
  },
  {
   "cell_type": "markdown",
   "id": "1d900050",
   "metadata": {},
   "source": [
    "**3- Encode Categorical Columns**"
   ]
  },
  {
   "cell_type": "code",
   "execution_count": null,
   "id": "e823e917",
   "metadata": {},
   "outputs": [
    {
     "name": "stdout",
     "output_type": "stream",
     "text": [
      "📋 Categorical columns: ['Level', 'Payment_Option', 'Delivery_Date']\n"
     ]
    }
   ],
   "source": [
    "# Detect categorical columns\n",
    "cat_cols = X_train.select_dtypes(include=['object', 'category']).columns.tolist()\n",
    "print(\"📋 Categorical columns:\", cat_cols)\n",
    "\n",
    "# Initialize encoder\n",
    "encoder = OrdinalEncoder(handle_unknown='use_encoded_value', unknown_value=-1) \n",
    "\n",
    "# Copy data before encoding\n",
    "X_train_enc = X_train.copy()\n",
    "X_test_enc = X_test.copy()\n",
    "\n",
    "# Fit and transform categorical features\n",
    "if len(cat_cols) > 0:\n",
    "    encoder.fit(X_train[cat_cols])\n",
    "    X_train_enc[cat_cols] = encoder.transform(X_train[cat_cols])\n",
    "    X_test_enc[cat_cols] = encoder.transform(X_test[cat_cols])\n",
    "\n",
    "# Fill missing values\n",
    "X_train_enc = X_train_enc.fillna(-999)\n",
    "X_test_enc = X_test_enc.fillna(-999)\n"
   ]
  },
  {
   "cell_type": "markdown",
   "id": "2b9ac569",
   "metadata": {},
   "source": [
    "**4- Train Multiple Regression Models**"
   ]
  },
  {
   "cell_type": "code",
   "execution_count": 36,
   "id": "80cef907",
   "metadata": {},
   "outputs": [
    {
     "name": "stdout",
     "output_type": "stream",
     "text": [
      "✅ Linear Regression trained successfully!\n",
      "✅ Ridge Regression trained successfully!\n",
      "✅ Random Forest trained successfully!\n",
      "✅ Gradient Boosting trained successfully!\n"
     ]
    }
   ],
   "source": [
    "# Define models\n",
    "models = {\n",
    "    \"Linear Regression\": LinearRegression(),\n",
    "    \"Ridge Regression\": Ridge(alpha=1.0),\n",
    "    \"Random Forest\": RandomForestRegressor(n_estimators=100, random_state=42),\n",
    "    \"Gradient Boosting\": GradientBoostingRegressor(n_estimators=100, random_state=42)\n",
    "}\n",
    "\n",
    "# Train all models\n",
    "for name, model in models.items():\n",
    "    model.fit(X_train_enc, y_train)\n",
    "    print(f\"✅ {name} trained successfully!\")\n"
   ]
  },
  {
   "cell_type": "markdown",
   "id": "53129413",
   "metadata": {},
   "source": [
    "**5- Evaluate Model Performance**"
   ]
  },
  {
   "cell_type": "code",
   "execution_count": null,
   "id": "f24859a4",
   "metadata": {},
   "outputs": [
    {
     "name": "stdout",
     "output_type": "stream",
     "text": [
      "Linear Regression: R2=0.837, RMSE=2406134.69, MAE=1498759.06\n",
      "Ridge Regression: R2=0.837, RMSE=2406108.66, MAE=1498740.26\n",
      "Random Forest: R2=0.999, RMSE=182126.29, MAE=4338.30\n",
      "Gradient Boosting: R2=1.000, RMSE=86932.14, MAE=34919.53\n"
     ]
    },
    {
     "data": {
      "text/html": [
       "<div>\n",
       "<style scoped>\n",
       "    .dataframe tbody tr th:only-of-type {\n",
       "        vertical-align: middle;\n",
       "    }\n",
       "\n",
       "    .dataframe tbody tr th {\n",
       "        vertical-align: top;\n",
       "    }\n",
       "\n",
       "    .dataframe thead th {\n",
       "        text-align: right;\n",
       "    }\n",
       "</style>\n",
       "<table border=\"1\" class=\"dataframe\">\n",
       "  <thead>\n",
       "    <tr style=\"text-align: right;\">\n",
       "      <th></th>\n",
       "      <th>R2</th>\n",
       "      <th>RMSE</th>\n",
       "      <th>MAE</th>\n",
       "    </tr>\n",
       "    <tr>\n",
       "      <th>Model</th>\n",
       "      <th></th>\n",
       "      <th></th>\n",
       "      <th></th>\n",
       "    </tr>\n",
       "  </thead>\n",
       "  <tbody>\n",
       "    <tr>\n",
       "      <th>Gradient Boosting</th>\n",
       "      <td>0.999788</td>\n",
       "      <td>8.693214e+04</td>\n",
       "      <td>3.491953e+04</td>\n",
       "    </tr>\n",
       "    <tr>\n",
       "      <th>Random Forest</th>\n",
       "      <td>0.999069</td>\n",
       "      <td>1.821263e+05</td>\n",
       "      <td>4.338299e+03</td>\n",
       "    </tr>\n",
       "    <tr>\n",
       "      <th>Ridge Regression</th>\n",
       "      <td>0.837486</td>\n",
       "      <td>2.406109e+06</td>\n",
       "      <td>1.498740e+06</td>\n",
       "    </tr>\n",
       "    <tr>\n",
       "      <th>Linear Regression</th>\n",
       "      <td>0.837483</td>\n",
       "      <td>2.406135e+06</td>\n",
       "      <td>1.498759e+06</td>\n",
       "    </tr>\n",
       "  </tbody>\n",
       "</table>\n",
       "</div>"
      ],
      "text/plain": [
       "                         R2          RMSE           MAE\n",
       "Model                                                  \n",
       "Gradient Boosting  0.999788  8.693214e+04  3.491953e+04\n",
       "Random Forest      0.999069  1.821263e+05  4.338299e+03\n",
       "Ridge Regression   0.837486  2.406109e+06  1.498740e+06\n",
       "Linear Regression  0.837483  2.406135e+06  1.498759e+06"
      ]
     },
     "execution_count": 37,
     "metadata": {},
     "output_type": "execute_result"
    }
   ],
   "source": [
    "results = []\n",
    "\n",
    "for name, model in models.items(): # name is the model name, model is the model instance\n",
    "    \n",
    "    preds = model.predict(X_test_enc) \n",
    "    r2 = r2_score(y_test, preds) # Coefficient of Determination\n",
    "    rmse = np.sqrt(mean_squared_error(y_test, preds)) # Root Mean Squared Error\n",
    "    mae = mean_absolute_error(y_test, preds) # Mean Absolute Error\n",
    "\n",
    "    results.append({'Model': name, 'R2': r2, 'RMSE': rmse, 'MAE': mae}) # Append results to list\n",
    "    print(f\"{name}: R2={r2:.3f}, RMSE={rmse:.2f}, MAE={mae:.2f}\")\n",
    "\n",
    "# Display comparison table\n",
    "results_df = pd.DataFrame(results).set_index('Model').sort_values(by='R2', ascending=False)\n",
    "results_df\n"
   ]
  },
  {
   "cell_type": "markdown",
   "id": "19e184c0",
   "metadata": {},
   "source": [
    "**6- Save the Best Model**"
   ]
  },
  {
   "cell_type": "code",
   "execution_count": 38,
   "id": "81750529",
   "metadata": {},
   "outputs": [
    {
     "name": "stdout",
     "output_type": "stream",
     "text": [
      "💾 Best model (Gradient Boosting) saved successfully!\n"
     ]
    }
   ],
   "source": [
    "import joblib\n",
    "\n",
    "# Get best model\n",
    "best_model_name = results_df.index[0] # model name with highest R2\n",
    "best_model = models[best_model_name]\n",
    "\n",
    "# Save as pickle file\n",
    "joblib.dump(best_model, f\"{best_model_name.replace(' ', '_').lower()}_model.pkl\")\n",
    "print(f\"💾 Best model ({best_model_name}) saved successfully!\")\n"
   ]
  },
  {
   "cell_type": "markdown",
   "id": "ff443065",
   "metadata": {},
   "source": [
    "**🧠 Machine Learning Summary**\n",
    "\n",
    "After preparing the data, four regression models were trained and evaluated to predict house prices:\n",
    "\n",
    "| Model | R² Score | RMSE | MAE |\n",
    "|:--|--:|--:|--:|\n",
    "| **Gradient Boosting** | **0.9998** | **86,932.14** | **34,919.53** |\n",
    "| **Random Forest** | 0.9991 | 182,126.29 | 4,338.30 |\n",
    "| **Ridge Regression** | 0.8375 | 2,406,109.00 | 1,498,740.26 |\n",
    "| **Linear Regression** | 0.8375 | 2,406,134.69 | 1,498,759.06 |\n",
    "\n",
    "---\n",
    "\n",
    "### 🔍 Insights:\n",
    "- **Ensemble models** (Gradient Boosting and Random Forest) performed far better than linear models, achieving near-perfect predictive accuracy.  \n",
    "- **Gradient Boosting** slightly outperformed **Random Forest**, showing the lowest RMSE and MAE, indicating it captures complex relationships effectively.  \n",
    "- **Linear and Ridge Regression** showed decent performance but couldn’t handle the nonlinear patterns in the data as effectively.\n",
    "\n",
    "---\n",
    "\n",
    "### 🏆 Best Model:\n",
    "The **Gradient Boosting Regressor** achieved the **highest accuracy (R² ≈ 1.0)** and **lowest error metrics**, making it the most reliable model for predicting property prices in this dataset.\n",
    "\n",
    "---\n",
    "\n",
    "### 💾 Model Deployment:\n",
    "The Gradient Boosting model was saved as a `.pkl` file for future deployment or integration into applications.\n"
   ]
  },
  {
   "cell_type": "code",
   "execution_count": 39,
   "id": "96c49cd9",
   "metadata": {},
   "outputs": [],
   "source": [
    "df.to_csv(\"egypt_houses_after_modeling.csv\", index=False) # saving the data after all transformations"
   ]
  },
  {
   "cell_type": "markdown",
   "id": "098545f8",
   "metadata": {},
   "source": [
    "# 🏠 Egypt House Prices Prediction Project\n",
    "\n",
    "## 📘 Project Overview\n",
    "This project aims to predict **house prices in Egypt** using machine learning models.  \n",
    "We went through the full data science workflow — from **data cleaning and preprocessing**, through **EDA**, **feature engineering**, and finally **model training and evaluation**.\n",
    "\n",
    "---\n",
    "\n",
    "## 🧹 1. Data Cleaning\n",
    "- Removed duplicates and irrelevant columns (`Compound`, `Developer`).\n",
    "- Handled missing values by keeping them as `NaN` for later interpretation.\n",
    "- Normalized text columns and standardized formats.\n",
    "- Converted categorical columns (`Level`, `City`) to appropriate data types.\n",
    "- Final dataset shape: **(25,433 rows × 12 columns)**  \n",
    "- Memory usage optimized: **~9.5 MB**\n",
    "\n",
    "---\n",
    "\n",
    "## 📊 2. Exploratory Data Analysis (EDA)\n",
    "- **Price, Area, Bedrooms, Bathrooms** → right-skewed distributions.\n",
    "- **Most listings** are **unfurnished**, targeting long-term buyers.\n",
    "- **New Cairo and North Coast** dominate in number of listings.\n",
    "- **Correlation Analysis:**\n",
    "  - Strongest correlation with `Price`:  \n",
    "    - `Bathrooms` (0.56)  \n",
    "    - `Area` (0.52)\n",
    "\n",
    "---\n",
    "\n",
    "## 🧩 3. Feature Engineering\n",
    "- Added new features:\n",
    "  - `price_per_m2` = Price / Area  \n",
    "  - `total_rooms` = Bedrooms + Bathrooms  \n",
    "  - `Log_Price` and `Log_Area` for better scaling.\n",
    "- Encoded categorical variables with `LabelEncoder`.\n",
    "- Dropped high-cardinality or uninformative columns.\n",
    "\n",
    "---\n",
    "\n",
    "## 🤖 4. Machine Learning Modeling\n",
    "**Models trained:**\n",
    "- Linear Regression  \n",
    "- Ridge Regression  \n",
    "- Random Forest Regressor  \n",
    "- Gradient Boosting Regressor  \n",
    "\n",
    "**Performance Summary:**\n",
    "\n",
    "| Model | R² | RMSE | MAE |\n",
    "|-------|------|-----------|-----------|\n",
    "| Gradient Boosting | **0.9998** | **86,932** | **34,919** |\n",
    "| Random Forest | 0.9991 | 182,126 | 4,338 |\n",
    "| Ridge Regression | 0.837 | 2,406,109 | 1,498,740 |\n",
    "| Linear Regression | 0.837 | 2,406,135 | 1,498,759 |\n",
    "\n",
    "✅ **Best Model:** Gradient Boosting Regressor — achieved excellent performance with near-perfect R² and minimal errors.\n",
    "\n",
    "---\n",
    "\n",
    "## 🏁 Final Notes\n",
    "- The dataset was well-prepared and clean, leading to strong model accuracy.\n",
    "- The model can effectively predict house prices based on area, number of rooms, and location.\n",
    "- Future improvements could include:\n",
    "  - Adding more external data (e.g., neighborhood quality, developer reputation)\n",
    "  - Performing hyperparameter tuning for Gradient Boosting\n",
    "  - Visual model evaluation and deployment as a web app or API\n",
    "---\n",
    "\n",
    "**Project Complete ✅**\n"
   ]
  }
 ],
 "metadata": {
  "kernelspec": {
   "display_name": "Python 3",
   "language": "python",
   "name": "python3"
  },
  "language_info": {
   "codemirror_mode": {
    "name": "ipython",
    "version": 3
   },
   "file_extension": ".py",
   "mimetype": "text/x-python",
   "name": "python",
   "nbconvert_exporter": "python",
   "pygments_lexer": "ipython3",
   "version": "3.13.7"
  }
 },
 "nbformat": 4,
 "nbformat_minor": 5
}
